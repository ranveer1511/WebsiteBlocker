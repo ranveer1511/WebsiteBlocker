{
 "cells": [
  {
   "cell_type": "markdown",
   "metadata": {},
   "source": [
    "#### Website blocker\n",
    "\n",
    "This program should:\n",
    "\n",
    " - Check if the current time is within working hours\n",
    " - If so then:\n",
    "   - Block the access to sites like facebook, gmail, yahoomail sites\n",
    " - Else:\n",
    "   - It should allow access to these sites normally"
   ]
  },
  {
   "cell_type": "raw",
   "metadata": {},
   "source": [
    "For this we need to have a background program running which checks the time.\n",
    "If it is within working hours then:\n",
    "    It will check C:\\Windows\\System32\\drivers\\etc\\hosts file\n",
    "    If the sites are not listed in this file then:\n",
    "        It will add these sites to this file\n",
    "Else:\n",
    "    It will check hosts file\n",
    "    If the sites are listed in this file then:\n",
    "        It will remove them\n",
    "        "
   ]
  },
  {
   "cell_type": "markdown",
   "metadata": {},
   "source": [
    "The above needs to run every 1 minute (60 seconds)\n",
    "\n",
    "It should run in the background (pythonw ie pyw file)\n",
    "\n",
    "It should be scheduled in Windows TaskManager to be run with admin previleges\n"
   ]
  },
  {
   "cell_type": "raw",
   "metadata": {},
   "source": [
    "Reference to Python language features used:\n",
    "\n",
    "Any:\n",
    "The any() method returns True if any element of an iterable is True. If not, any() returns False.\n",
    "https://www.programiz.com/python-programming/methods/built-in/any\n",
    "   \n",
    "With:\n",
    "It is good practice to use the with keyword when dealing with file objects. The advantage is that the file is properly closed after its suite finishes, even if an exception is raised at some point. Using with is also much shorter than writing equivalent try-finally blocks.\n",
    "       https://docs.python.org/3/tutorial/inputoutput.html\n",
    "       "
   ]
  },
  {
   "cell_type": "code",
   "execution_count": null,
   "metadata": {},
   "outputs": [],
   "source": [
    "import time\n",
    "from datetime import datetime as dt\n",
    "\n",
    "hosts_temp=r\"C:\\Users\\ranveer\\PythonDir\\hosts\"\n",
    "# hosts_path=r\"C:\\Windows\\System32\\drivers\\etc\\hosts\"\n",
    "\n",
    "redirect=\"127.0.0.1\"\n",
    "\n",
    "website_list=[\"www.facebook.com\",\"facebook.com\",\"mail.yahoo.com\",\"www.yahoomail.com\"]\n",
    "\n",
    "while True:\n",
    "    if 9 < dt.now().hour < 17:\n",
    "        print(\"Working hours...\")\n",
    "        with open(hosts_temp,'r+') as file:\n",
    "            content=file.read()\n",
    "            for website in website_list:\n",
    "                if website in content:\n",
    "                    pass\n",
    "                else:\n",
    "                    file.write(redirect+\" \"+ website+\"\\n\")\n",
    "    else:\n",
    "        with open(hosts_temp,'r+') as file:\n",
    "            content=file.readlines()\n",
    "            file.seek(0)\n",
    "            for line in content:\n",
    "                if not any(website in line for website in website_list):\n",
    "                    file.write(line)\n",
    "            file.truncate()\n",
    "            print(\"Fun hours...\")\n",
    "    time.sleep(60)\n"
   ]
  }
 ],
 "metadata": {
  "kernelspec": {
   "display_name": "Python 3 (ipykernel)",
   "language": "python",
   "name": "python3"
  },
  "language_info": {
   "codemirror_mode": {
    "name": "ipython",
    "version": 3
   },
   "file_extension": ".py",
   "mimetype": "text/x-python",
   "name": "python",
   "nbconvert_exporter": "python",
   "pygments_lexer": "ipython3",
   "version": "3.9.7"
  }
 },
 "nbformat": 4,
 "nbformat_minor": 2
}
